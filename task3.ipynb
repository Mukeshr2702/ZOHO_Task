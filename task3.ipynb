{
 "cells": [
  {
   "cell_type": "code",
   "execution_count": 44,
   "metadata": {},
   "outputs": [],
   "source": [
    "import numpy as np\n",
    "import os\n",
    "import cv2\n",
    "import shutil\n",
    "import matplotlib.pyplot as plt\n",
    "import tensorflow as tf\n",
    "\n",
    "from tensorflow import keras\n",
    "from tensorflow.keras import layers\n",
    "from tensorflow.keras.models import Sequential"
   ]
  },
  {
   "cell_type": "code",
   "execution_count": 45,
   "metadata": {},
   "outputs": [],
   "source": [
    "data_dir =\"/home/local/ZOHOCORP/mukesh-pt6058/Desktop/Flowerclassification/ML/flowers/\""
   ]
  },
  {
   "cell_type": "code",
   "execution_count": 46,
   "metadata": {},
   "outputs": [
    {
     "name": "stdout",
     "output_type": "stream",
     "text": [
      "['daisy', 'dandelion', 'rose', 'sunflower', 'tulip']\n"
     ]
    }
   ],
   "source": [
    "print(os.listdir(\"/home/local/ZOHOCORP/mukesh-pt6058/Desktop/Flowerclassification/ML/flowers/\"))"
   ]
  },
  {
   "cell_type": "code",
   "execution_count": 47,
   "metadata": {},
   "outputs": [],
   "source": [
    "batch_size = 32\n",
    "img_height = 180\n",
    "img_width = 180"
   ]
  },
  {
   "cell_type": "code",
   "execution_count": 48,
   "metadata": {},
   "outputs": [
    {
     "name": "stdout",
     "output_type": "stream",
     "text": [
      "Found 4323 files belonging to 5 classes.\n",
      "Using 3459 files for training.\n"
     ]
    }
   ],
   "source": [
    "train_ds = tf.keras.preprocessing.image_dataset_from_directory(\n",
    "  data_dir,\n",
    "  validation_split=0.2,\n",
    "  subset=\"training\",\n",
    "  seed=123,\n",
    "  image_size=(img_height, img_width),\n",
    "  batch_size=batch_size)"
   ]
  },
  {
   "cell_type": "code",
   "execution_count": 49,
   "metadata": {},
   "outputs": [
    {
     "name": "stdout",
     "output_type": "stream",
     "text": [
      "Found 4323 files belonging to 5 classes.\n",
      "Using 864 files for validation.\n"
     ]
    }
   ],
   "source": [
    "valid_ds = tf.keras.preprocessing.image_dataset_from_directory(\n",
    "  data_dir,\n",
    "  validation_split=0.2,\n",
    "  subset=\"validation\",\n",
    "  seed=123,\n",
    "  image_size=(img_height, img_width),\n",
    "  batch_size=batch_size)"
   ]
  },
  {
   "cell_type": "code",
   "execution_count": 50,
   "metadata": {},
   "outputs": [
    {
     "name": "stdout",
     "output_type": "stream",
     "text": [
      "['daisy', 'dandelion', 'rose', 'sunflower', 'tulip']\n"
     ]
    }
   ],
   "source": [
    "class_names = train_ds.class_names\n",
    "print(class_names)"
   ]
  },
  {
   "cell_type": "code",
   "execution_count": 51,
   "metadata": {},
   "outputs": [],
   "source": [
    "normalization_layer = layers.experimental.preprocessing.Rescaling(1./255)"
   ]
  },
  {
   "cell_type": "code",
   "execution_count": 52,
   "metadata": {},
   "outputs": [
    {
     "name": "stdout",
     "output_type": "stream",
     "text": [
      "0.0 1.0\n"
     ]
    }
   ],
   "source": [
    "normalized_ds = train_ds.map(lambda x, y: (normalization_layer(x), y))\n",
    "image_batch, labels_batch = next(iter(normalized_ds))\n",
    "first_image = image_batch[0]\n",
    "print(np.min(first_image), np.max(first_image))"
   ]
  },
  {
   "cell_type": "code",
   "execution_count": 53,
   "metadata": {},
   "outputs": [],
   "source": [
    "data_augmentation = keras.Sequential(\n",
    "  [\n",
    "    layers.experimental.preprocessing.RandomFlip(\"horizontal\", \n",
    "                                                 input_shape=(img_height, \n",
    "                                                              img_width,\n",
    "                                                              3)),\n",
    "    layers.experimental.preprocessing.RandomRotation(0.1),\n",
    "    layers.experimental.preprocessing.RandomZoom(0.1),\n",
    "  ]\n",
    ")"
   ]
  },
  {
   "cell_type": "code",
   "execution_count": 54,
   "metadata": {},
   "outputs": [],
   "source": [
    "model = Sequential([\n",
    "  data_augmentation,\n",
    "  layers.experimental.preprocessing.Rescaling(1./255),\n",
    "  layers.Conv2D(16, 3, padding='same', activation='relu'),\n",
    "  layers.MaxPooling2D(),\n",
    "  layers.Conv2D(32, 3, padding='same', activation='relu'),\n",
    "  layers.MaxPooling2D(),\n",
    "  layers.Conv2D(64, 3, padding='same', activation='relu'),\n",
    "  layers.MaxPooling2D(),\n",
    "  layers.Dropout(0.3),\n",
    "  layers.Flatten(),\n",
    "  layers.Dense(128, activation='relu'),\n",
    "  layers.Dense(num_classes)\n",
    "])"
   ]
  },
  {
   "cell_type": "code",
   "execution_count": 55,
   "metadata": {},
   "outputs": [],
   "source": [
    "model.compile(optimizer='adam',\n",
    "              loss=tf.keras.losses.SparseCategoricalCrossentropy(from_logits=True),\n",
    "              metrics=['accuracy'])"
   ]
  },
  {
   "cell_type": "code",
   "execution_count": 68,
   "metadata": {},
   "outputs": [
    {
     "name": "stdout",
     "output_type": "stream",
     "text": [
      "Epoch 1/35\n",
      "109/109 [==============================] - 19s 178ms/step - loss: 0.2240 - accuracy: 0.9263 - val_loss: 1.3214 - val_accuracy: 0.7072\n",
      "Epoch 2/35\n",
      "109/109 [==============================] - 20s 179ms/step - loss: 0.1642 - accuracy: 0.9439 - val_loss: 1.3823 - val_accuracy: 0.6852\n",
      "Epoch 3/35\n",
      "109/109 [==============================] - 20s 179ms/step - loss: 0.2154 - accuracy: 0.9321 - val_loss: 1.2815 - val_accuracy: 0.7141\n",
      "Epoch 4/35\n",
      "109/109 [==============================] - 19s 178ms/step - loss: 0.1577 - accuracy: 0.9422 - val_loss: 1.3745 - val_accuracy: 0.7060\n",
      "Epoch 5/35\n",
      "109/109 [==============================] - 20s 178ms/step - loss: 0.1613 - accuracy: 0.9425 - val_loss: 1.3469 - val_accuracy: 0.7049\n",
      "Epoch 6/35\n",
      "109/109 [==============================] - 20s 178ms/step - loss: 0.1598 - accuracy: 0.9456 - val_loss: 1.3557 - val_accuracy: 0.7350\n",
      "Epoch 7/35\n",
      "109/109 [==============================] - 19s 178ms/step - loss: 0.1361 - accuracy: 0.9517 - val_loss: 1.3513 - val_accuracy: 0.7153\n",
      "Epoch 8/35\n",
      "109/109 [==============================] - 19s 177ms/step - loss: 0.1241 - accuracy: 0.9589 - val_loss: 1.3456 - val_accuracy: 0.7326\n",
      "Epoch 9/35\n",
      "109/109 [==============================] - 19s 177ms/step - loss: 0.1506 - accuracy: 0.9468 - val_loss: 1.4926 - val_accuracy: 0.6887\n",
      "Epoch 10/35\n",
      "109/109 [==============================] - 19s 178ms/step - loss: 0.1357 - accuracy: 0.9511 - val_loss: 1.4470 - val_accuracy: 0.7095\n",
      "Epoch 11/35\n",
      "109/109 [==============================] - 19s 178ms/step - loss: 0.1409 - accuracy: 0.9566 - val_loss: 1.3343 - val_accuracy: 0.7199\n",
      "Epoch 12/35\n",
      "109/109 [==============================] - 19s 176ms/step - loss: 0.1059 - accuracy: 0.9613 - val_loss: 1.3655 - val_accuracy: 0.7257\n",
      "Epoch 13/35\n",
      "109/109 [==============================] - 20s 181ms/step - loss: 0.1177 - accuracy: 0.9598 - val_loss: 1.3437 - val_accuracy: 0.7269\n",
      "Epoch 14/35\n",
      "109/109 [==============================] - 19s 176ms/step - loss: 0.1013 - accuracy: 0.9662 - val_loss: 1.4710 - val_accuracy: 0.7361\n",
      "Epoch 15/35\n",
      "109/109 [==============================] - 20s 179ms/step - loss: 0.1986 - accuracy: 0.9352 - val_loss: 1.3600 - val_accuracy: 0.7060\n",
      "Epoch 16/35\n",
      "109/109 [==============================] - 19s 178ms/step - loss: 0.1134 - accuracy: 0.9630 - val_loss: 1.4876 - val_accuracy: 0.7384\n",
      "Epoch 17/35\n",
      "109/109 [==============================] - 19s 178ms/step - loss: 0.1036 - accuracy: 0.9644 - val_loss: 1.5543 - val_accuracy: 0.7141\n",
      "Epoch 18/35\n",
      "109/109 [==============================] - 20s 180ms/step - loss: 0.1373 - accuracy: 0.9540 - val_loss: 1.4040 - val_accuracy: 0.7326\n",
      "Epoch 19/35\n",
      "109/109 [==============================] - 20s 180ms/step - loss: 0.1119 - accuracy: 0.9615 - val_loss: 1.6071 - val_accuracy: 0.7234\n",
      "Epoch 20/35\n",
      "109/109 [==============================] - 20s 181ms/step - loss: 0.1002 - accuracy: 0.9694 - val_loss: 1.4769 - val_accuracy: 0.7234\n",
      "Epoch 21/35\n",
      "109/109 [==============================] - 19s 176ms/step - loss: 0.0903 - accuracy: 0.9679 - val_loss: 1.5495 - val_accuracy: 0.7199\n",
      "Epoch 22/35\n",
      "109/109 [==============================] - 20s 183ms/step - loss: 0.0998 - accuracy: 0.9685 - val_loss: 1.3837 - val_accuracy: 0.7326\n",
      "Epoch 23/35\n",
      "109/109 [==============================] - 20s 186ms/step - loss: 0.0709 - accuracy: 0.9743 - val_loss: 1.7243 - val_accuracy: 0.7083\n",
      "Epoch 24/35\n",
      "109/109 [==============================] - 20s 185ms/step - loss: 0.0896 - accuracy: 0.9688 - val_loss: 1.5912 - val_accuracy: 0.7292\n",
      "Epoch 25/35\n",
      "109/109 [==============================] - 20s 187ms/step - loss: 0.0819 - accuracy: 0.9725 - val_loss: 1.7111 - val_accuracy: 0.6991\n",
      "Epoch 26/35\n",
      "109/109 [==============================] - 20s 184ms/step - loss: 0.1026 - accuracy: 0.9699 - val_loss: 1.5978 - val_accuracy: 0.7269\n",
      "Epoch 27/35\n",
      "109/109 [==============================] - 20s 185ms/step - loss: 0.0708 - accuracy: 0.9751 - val_loss: 1.6978 - val_accuracy: 0.7211\n",
      "Epoch 28/35\n",
      "109/109 [==============================] - 20s 184ms/step - loss: 0.0757 - accuracy: 0.9769 - val_loss: 1.6643 - val_accuracy: 0.7234\n",
      "Epoch 29/35\n",
      "109/109 [==============================] - 20s 184ms/step - loss: 0.0920 - accuracy: 0.9691 - val_loss: 1.6410 - val_accuracy: 0.7141\n",
      "Epoch 30/35\n",
      "109/109 [==============================] - 20s 184ms/step - loss: 0.0849 - accuracy: 0.9702 - val_loss: 1.5920 - val_accuracy: 0.7269\n",
      "Epoch 31/35\n",
      "109/109 [==============================] - 20s 184ms/step - loss: 0.0976 - accuracy: 0.9711 - val_loss: 1.6298 - val_accuracy: 0.7257\n",
      "Epoch 32/35\n",
      "109/109 [==============================] - 20s 185ms/step - loss: 0.0800 - accuracy: 0.9748 - val_loss: 1.6678 - val_accuracy: 0.7338\n",
      "Epoch 33/35\n",
      "109/109 [==============================] - 20s 184ms/step - loss: 0.0662 - accuracy: 0.9789 - val_loss: 1.8805 - val_accuracy: 0.7199\n",
      "Epoch 34/35\n",
      "109/109 [==============================] - 20s 186ms/step - loss: 0.1130 - accuracy: 0.9633 - val_loss: 1.6858 - val_accuracy: 0.7164\n",
      "Epoch 35/35\n",
      "109/109 [==============================] - 20s 185ms/step - loss: 0.0925 - accuracy: 0.9731 - val_loss: 1.7035 - val_accuracy: 0.7199\n"
     ]
    },
    {
     "data": {
      "text/plain": [
       "<keras.callbacks.History at 0x7f00c9a18130>"
      ]
     },
     "execution_count": 68,
     "metadata": {},
     "output_type": "execute_result"
    }
   ],
   "source": [
    "epochs=35\n",
    "model.fit(\n",
    "  train_ds,\n",
    "  validation_data=valid_ds,\n",
    "  epochs=epochs\n",
    ")"
   ]
  },
  {
   "cell_type": "code",
   "execution_count": 71,
   "metadata": {},
   "outputs": [
    {
     "name": "stdout",
     "output_type": "stream",
     "text": [
      "1/1 [==============================] - 0s 28ms/step\n",
      "tulip\n"
     ]
    }
   ],
   "source": [
    "\n",
    "from keras.preprocessing import image\n",
    "image = tf.keras.preprocessing.image.load_img('/home/local/ZOHOCORP/mukesh-pt6058/Desktop/Flowerclassification/ML/tulip2.jpeg', target_size=(180,180))\n",
    "input_arr = tf.keras.preprocessing.image.img_to_array(image)\n",
    "input_arr = np.array([input_arr])  \n",
    "result = model.predict(input_arr)\n",
    "prediction = np.argmax(result)\n",
    "\n",
    "print(class_names[prediction])"
   ]
  },
  {
   "cell_type": "code",
   "execution_count": null,
   "metadata": {},
   "outputs": [],
   "source": []
  }
 ],
 "metadata": {
  "kernelspec": {
   "display_name": "Python 3.8.5 ('base')",
   "language": "python",
   "name": "python3"
  },
  "language_info": {
   "codemirror_mode": {
    "name": "ipython",
    "version": 3
   },
   "file_extension": ".py",
   "mimetype": "text/x-python",
   "name": "python",
   "nbconvert_exporter": "python",
   "pygments_lexer": "ipython3",
   "version": "3.8.5"
  },
  "orig_nbformat": 4,
  "vscode": {
   "interpreter": {
    "hash": "4c7c73bd2f96f7ecfce4c2ebe289d2ebf7bb8be73ece72a715221e4a2052d88f"
   }
  }
 },
 "nbformat": 4,
 "nbformat_minor": 2
}
