{
  "nbformat": 4,
  "nbformat_minor": 0,
  "metadata": {
    "colab": {
      "provenance": [],
      "collapsed_sections": []
    },
    "kernelspec": {
      "name": "python3",
      "display_name": "Python 3"
    },
    "language_info": {
      "name": "python"
    },
    "accelerator": "GPU"
  },
  "cells": [
    {
      "cell_type": "code",
      "execution_count": 11,
      "metadata": {
        "colab": {
          "base_uri": "https://localhost:8080/"
        },
        "id": "DEHSvd_gf1A7",
        "outputId": "f7e8b0d2-a925-45cc-b0a5-caee41d08f03"
      },
      "outputs": [
        {
          "output_type": "stream",
          "name": "stdout",
          "text": [
            "cuda\n"
          ]
        }
      ],
      "source": [
        "\n",
        "import torch\n",
        "import torch.nn as nn\n",
        "import torchvision\n",
        "import torchvision.transforms as transforms\n",
        "\n",
        "batch_size = 64\n",
        "num_classes = 10\n",
        "learning_rate = 0.001\n",
        "num_epochs =100\n",
        "\n",
        "device = torch.device('cuda' if torch.cuda.is_available() else 'cpu')\n",
        "print(device)"
      ]
    },
    {
      "cell_type": "code",
      "source": [
        "\n",
        "all_transforms = transforms.Compose([transforms.Resize((32,32)),\n",
        "                                     transforms.ToTensor(),\n",
        "                                     transforms.Normalize(mean=[0.4914, 0.4822, 0.4465],\n",
        "                                                          std=[0.2023, 0.1994, 0.2010])\n",
        "                                     ])\n",
        "train_dataset = torchvision.datasets.CIFAR10(root = './data',\n",
        "                                             train = True,\n",
        "                                             transform = all_transforms,\n",
        "                                             download = True)\n",
        "\n",
        "test_dataset = torchvision.datasets.CIFAR10(root = './data',\n",
        "                                            train = False,\n",
        "                                            transform = all_transforms,\n",
        "                                            download=True)\n",
        "\n",
        "train_loader = torch.utils.data.DataLoader(dataset = train_dataset,\n",
        "                                           batch_size = batch_size,\n",
        "                                           shuffle = True)\n",
        "\n",
        "\n",
        "test_loader = torch.utils.data.DataLoader(dataset = test_dataset,\n",
        "                                           batch_size = batch_size,\n",
        "                                           shuffle = True)"
      ],
      "metadata": {
        "colab": {
          "base_uri": "https://localhost:8080/"
        },
        "id": "YSr7gns1gHDT",
        "outputId": "ce0b9a69-1be0-4476-d50c-47b6f794aa80"
      },
      "execution_count": 12,
      "outputs": [
        {
          "output_type": "stream",
          "name": "stdout",
          "text": [
            "Files already downloaded and verified\n",
            "Files already downloaded and verified\n"
          ]
        }
      ]
    },
    {
      "cell_type": "code",
      "source": [
        "class ConvNeuralNet(nn.Module):\n",
        "    def __init__(self, num_classes):\n",
        "        super(ConvNeuralNet, self).__init__()\n",
        "        self.conv_layer1 = nn.Conv2d(in_channels=3, out_channels=32, kernel_size=3)\n",
        "        self.conv_layer2 = nn.Conv2d(in_channels=32, out_channels=32, kernel_size=3)\n",
        "        self.max_pool1 = nn.MaxPool2d(kernel_size = 2, stride = 2)\n",
        "        \n",
        "        self.conv_layer3 = nn.Conv2d(in_channels=32, out_channels=64, kernel_size=3)\n",
        "        self.conv_layer4 = nn.Conv2d(in_channels=64, out_channels=64, kernel_size=3)\n",
        "        self.max_pool2 = nn.MaxPool2d(kernel_size = 2, stride = 2)\n",
        "        \n",
        "        self.fc1 = nn.Linear(1600, 128)\n",
        "        self.relu1 = nn.ReLU()\n",
        "        self.fc2 = nn.Linear(128, num_classes)\n",
        "      \n",
        "    def forward(self, x):\n",
        "        out = self.conv_layer1(x)\n",
        "        out = self.conv_layer2(out)\n",
        "        out = self.max_pool1(out)\n",
        "        \n",
        "        out = self.conv_layer3(out)\n",
        "        out = self.conv_layer4(out)\n",
        "        out = self.max_pool2(out)\n",
        "                \n",
        "        out = out.reshape(out.size(0), -1)\n",
        "        \n",
        "        out = self.fc1(out)\n",
        "        out = self.relu1(out)\n",
        "        out = self.fc2(out)\n",
        "        return out"
      ],
      "metadata": {
        "id": "WDcXurLPgZKR"
      },
      "execution_count": 13,
      "outputs": []
    },
    {
      "cell_type": "code",
      "source": [
        "model = ConvNeuralNet(num_classes).to(device)\n",
        "\n",
        "criterion = nn.CrossEntropyLoss()\n",
        "\n",
        "optimizer = torch.optim.SGD(model.parameters(), lr=learning_rate)  \n"
      ],
      "metadata": {
        "id": "P7b0GSc3goIR"
      },
      "execution_count": 14,
      "outputs": []
    },
    {
      "cell_type": "code",
      "source": [
        "\n",
        "for epoch in range(num_epochs):\n",
        "  correct = 0\n",
        "  total = 0\n",
        "  for i, (images, labels) in enumerate(train_loader):  \n",
        "        \n",
        "        images = images.to(device)\n",
        "        labels = labels.to(device)\n",
        "        \n",
        "        output = model(images)\n",
        "        loss = criterion(output, labels)\n",
        "        \n",
        "        optimizer.zero_grad()\n",
        "        loss.backward()\n",
        "        optimizer.step()\n",
        "        _,predicted = torch.max(output.data,1)\n",
        "        total +=labels.size(0)\n",
        "        correct += (predicted == labels).sum().item()\n",
        "        \n",
        "\n",
        "  print('Epoch [{}/{}], Loss: {:.4f}, Accuracy: {}% '.format(epoch+1, num_epochs, loss.item(),100 * correct / total))\n",
        "\n",
        "         \n"
      ],
      "metadata": {
        "colab": {
          "base_uri": "https://localhost:8080/"
        },
        "id": "CZyVm0fNgvvf",
        "outputId": "051e75d0-0fb4-48ce-ef0a-33afd1a4f1d3"
      },
      "execution_count": 15,
      "outputs": [
        {
          "output_type": "stream",
          "name": "stdout",
          "text": [
            "Epoch [1/100], Loss: 2.2889, Accuracy: 16.024% \n",
            "Epoch [2/100], Loss: 2.0156, Accuracy: 22.912% \n",
            "Epoch [3/100], Loss: 1.7754, Accuracy: 27.958% \n",
            "Epoch [4/100], Loss: 1.7572, Accuracy: 31.572% \n",
            "Epoch [5/100], Loss: 1.8192, Accuracy: 34.43% \n",
            "Epoch [6/100], Loss: 1.7226, Accuracy: 37.184% \n",
            "Epoch [7/100], Loss: 1.8355, Accuracy: 39.432% \n",
            "Epoch [8/100], Loss: 1.2922, Accuracy: 41.374% \n",
            "Epoch [9/100], Loss: 1.5973, Accuracy: 43.224% \n",
            "Epoch [10/100], Loss: 1.6398, Accuracy: 44.776% \n",
            "Epoch [11/100], Loss: 1.7765, Accuracy: 46.076% \n",
            "Epoch [12/100], Loss: 1.3770, Accuracy: 47.244% \n",
            "Epoch [13/100], Loss: 1.3844, Accuracy: 48.21% \n",
            "Epoch [14/100], Loss: 1.8324, Accuracy: 49.33% \n",
            "Epoch [15/100], Loss: 1.5889, Accuracy: 50.224% \n",
            "Epoch [16/100], Loss: 1.2546, Accuracy: 50.816% \n",
            "Epoch [17/100], Loss: 1.7440, Accuracy: 51.714% \n",
            "Epoch [18/100], Loss: 1.5028, Accuracy: 52.416% \n",
            "Epoch [19/100], Loss: 1.6066, Accuracy: 53.204% \n",
            "Epoch [20/100], Loss: 1.5408, Accuracy: 53.838% \n",
            "Epoch [21/100], Loss: 1.4751, Accuracy: 54.776% \n",
            "Epoch [22/100], Loss: 1.2102, Accuracy: 55.308% \n",
            "Epoch [23/100], Loss: 1.4863, Accuracy: 56.278% \n",
            "Epoch [24/100], Loss: 1.4133, Accuracy: 56.696% \n",
            "Epoch [25/100], Loss: 1.1531, Accuracy: 57.186% \n",
            "Epoch [26/100], Loss: 1.4015, Accuracy: 57.708% \n",
            "Epoch [27/100], Loss: 1.1296, Accuracy: 58.43% \n",
            "Epoch [28/100], Loss: 0.8485, Accuracy: 59.148% \n",
            "Epoch [29/100], Loss: 1.2013, Accuracy: 59.498% \n",
            "Epoch [30/100], Loss: 1.2306, Accuracy: 59.956% \n",
            "Epoch [31/100], Loss: 1.1776, Accuracy: 60.682% \n",
            "Epoch [32/100], Loss: 1.0798, Accuracy: 60.912% \n",
            "Epoch [33/100], Loss: 1.2403, Accuracy: 61.526% \n",
            "Epoch [34/100], Loss: 1.1497, Accuracy: 61.808% \n",
            "Epoch [35/100], Loss: 1.1230, Accuracy: 62.346% \n",
            "Epoch [36/100], Loss: 1.0809, Accuracy: 62.874% \n",
            "Epoch [37/100], Loss: 1.5536, Accuracy: 63.376% \n",
            "Epoch [38/100], Loss: 1.6588, Accuracy: 63.724% \n",
            "Epoch [39/100], Loss: 1.1139, Accuracy: 64.01% \n",
            "Epoch [40/100], Loss: 1.1624, Accuracy: 64.294% \n",
            "Epoch [41/100], Loss: 0.4859, Accuracy: 64.864% \n",
            "Epoch [42/100], Loss: 0.5929, Accuracy: 65.146% \n",
            "Epoch [43/100], Loss: 0.8477, Accuracy: 65.79% \n",
            "Epoch [44/100], Loss: 0.7488, Accuracy: 65.94% \n",
            "Epoch [45/100], Loss: 0.9620, Accuracy: 66.362% \n",
            "Epoch [46/100], Loss: 0.9709, Accuracy: 66.702% \n",
            "Epoch [47/100], Loss: 0.4603, Accuracy: 67.018% \n",
            "Epoch [48/100], Loss: 1.0477, Accuracy: 67.352% \n",
            "Epoch [49/100], Loss: 1.0835, Accuracy: 67.664% \n",
            "Epoch [50/100], Loss: 1.4711, Accuracy: 68.112% \n",
            "Epoch [51/100], Loss: 0.7645, Accuracy: 68.374% \n",
            "Epoch [52/100], Loss: 0.8284, Accuracy: 68.55% \n",
            "Epoch [53/100], Loss: 1.0018, Accuracy: 68.972% \n",
            "Epoch [54/100], Loss: 0.9098, Accuracy: 69.262% \n",
            "Epoch [55/100], Loss: 0.5522, Accuracy: 69.664% \n",
            "Epoch [56/100], Loss: 0.8043, Accuracy: 70.054% \n",
            "Epoch [57/100], Loss: 1.4634, Accuracy: 70.064% \n",
            "Epoch [58/100], Loss: 1.1364, Accuracy: 70.516% \n",
            "Epoch [59/100], Loss: 1.0261, Accuracy: 70.732% \n",
            "Epoch [60/100], Loss: 0.8095, Accuracy: 71.1% \n",
            "Epoch [61/100], Loss: 0.8419, Accuracy: 71.494% \n",
            "Epoch [62/100], Loss: 0.9709, Accuracy: 71.85% \n",
            "Epoch [63/100], Loss: 0.6951, Accuracy: 71.92% \n",
            "Epoch [64/100], Loss: 0.7004, Accuracy: 72.268% \n",
            "Epoch [65/100], Loss: 0.8146, Accuracy: 72.446% \n",
            "Epoch [66/100], Loss: 1.0234, Accuracy: 72.812% \n",
            "Epoch [67/100], Loss: 0.9753, Accuracy: 73.094% \n",
            "Epoch [68/100], Loss: 0.6989, Accuracy: 73.26% \n",
            "Epoch [69/100], Loss: 1.1198, Accuracy: 73.718% \n",
            "Epoch [70/100], Loss: 0.7103, Accuracy: 73.942% \n",
            "Epoch [71/100], Loss: 0.5809, Accuracy: 74.026% \n",
            "Epoch [72/100], Loss: 0.9834, Accuracy: 74.532% \n",
            "Epoch [73/100], Loss: 0.3778, Accuracy: 74.716% \n",
            "Epoch [74/100], Loss: 0.6139, Accuracy: 75.08% \n",
            "Epoch [75/100], Loss: 1.1752, Accuracy: 75.216% \n",
            "Epoch [76/100], Loss: 1.1049, Accuracy: 75.554% \n",
            "Epoch [77/100], Loss: 0.9289, Accuracy: 75.808% \n",
            "Epoch [78/100], Loss: 0.4239, Accuracy: 76.138% \n",
            "Epoch [79/100], Loss: 1.1822, Accuracy: 76.356% \n",
            "Epoch [80/100], Loss: 0.7022, Accuracy: 76.458% \n",
            "Epoch [81/100], Loss: 0.7717, Accuracy: 76.754% \n",
            "Epoch [82/100], Loss: 0.4548, Accuracy: 77.182% \n",
            "Epoch [83/100], Loss: 0.4137, Accuracy: 77.338% \n",
            "Epoch [84/100], Loss: 0.4035, Accuracy: 77.552% \n",
            "Epoch [85/100], Loss: 0.7078, Accuracy: 77.854% \n",
            "Epoch [86/100], Loss: 0.4750, Accuracy: 78.054% \n",
            "Epoch [87/100], Loss: 0.5658, Accuracy: 78.366% \n",
            "Epoch [88/100], Loss: 0.8978, Accuracy: 78.556% \n",
            "Epoch [89/100], Loss: 0.6777, Accuracy: 78.7% \n",
            "Epoch [90/100], Loss: 0.4696, Accuracy: 79.156% \n",
            "Epoch [91/100], Loss: 0.3908, Accuracy: 79.18% \n",
            "Epoch [92/100], Loss: 0.3954, Accuracy: 79.536% \n",
            "Epoch [93/100], Loss: 0.3850, Accuracy: 79.764% \n",
            "Epoch [94/100], Loss: 0.4718, Accuracy: 80.192% \n",
            "Epoch [95/100], Loss: 0.4059, Accuracy: 80.36% \n",
            "Epoch [96/100], Loss: 0.6343, Accuracy: 80.618% \n",
            "Epoch [97/100], Loss: 0.2167, Accuracy: 80.904% \n",
            "Epoch [98/100], Loss: 0.7478, Accuracy: 81.08% \n",
            "Epoch [99/100], Loss: 0.2700, Accuracy: 81.36% \n",
            "Epoch [100/100], Loss: 0.7839, Accuracy: 81.862% \n"
          ]
        }
      ]
    },
    {
      "cell_type": "code",
      "source": [
        "with torch.no_grad():\n",
        "    correct = 0\n",
        "    total = 0\n",
        "    for images, labels in test_loader:\n",
        "        images = images.to(device)\n",
        "        labels = labels.to(device)\n",
        "        outputs = model(images)\n",
        "        _, predicted = torch.max(outputs.data, 1)\n",
        "        total += labels.size(0)\n",
        "        correct += (predicted == labels).sum().item()\n",
        "    \n",
        "    print('Accuracy of the network : {} %'.format(100 * correct / total))\n",
        "\n"
      ],
      "metadata": {
        "colab": {
          "base_uri": "https://localhost:8080/"
        },
        "id": "llfQU58BhCUq",
        "outputId": "1bd5f709-8e34-4dc1-d7ba-a159caa42aa4"
      },
      "execution_count": 16,
      "outputs": [
        {
          "output_type": "stream",
          "name": "stdout",
          "text": [
            "Accuracy of the network : 64.17 %\n"
          ]
        }
      ]
    },
    {
      "cell_type": "code",
      "source": [],
      "metadata": {
        "id": "cNy0lM4qanTj"
      },
      "execution_count": 16,
      "outputs": []
    }
  ]
}