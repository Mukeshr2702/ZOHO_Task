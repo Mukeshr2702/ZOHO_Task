{
  "nbformat": 4,
  "nbformat_minor": 0,
  "metadata": {
    "colab": {
      "provenance": []
    },
    "kernelspec": {
      "name": "python3",
      "display_name": "Python 3"
    },
    "language_info": {
      "name": "python"
    },
    "accelerator": "GPU"
  },
  "cells": [
    {
      "cell_type": "code",
      "execution_count": 18,
      "metadata": {
        "colab": {
          "base_uri": "https://localhost:8080/"
        },
        "id": "2OyGxRS_qGKz",
        "outputId": "6070c9ec-86d8-4553-e648-7e4803485882"
      },
      "outputs": [
        {
          "output_type": "stream",
          "name": "stdout",
          "text": [
            "cuda\n"
          ]
        }
      ],
      "source": [
        "\n",
        "import torch\n",
        "import torch.nn as nn\n",
        "import torchvision\n",
        "import torchvision.transforms as transforms\n",
        "\n",
        "batch_size = 64\n",
        "num_classes = 10\n",
        "learning_rate = 0.001\n",
        "num_epochs = 50\n",
        "\n",
        "device = torch.device('cuda' if torch.cuda.is_available() else 'cpu')\n",
        "print(device)"
      ]
    },
    {
      "cell_type": "code",
      "source": [
        "from torch.utils.data import dataset\n",
        "\n",
        "all_transforms = transforms.Compose([transforms.Resize((32,32)),\n",
        "                                     transforms.ToTensor(),\n",
        "                                     transforms.Normalize(mean=[0.4914, 0.4822, 0.4465],\n",
        "                                                          std=[0.2023, 0.1994, 0.2010])\n",
        "                                     ])\n",
        "train_dataset = torchvision.datasets.CIFAR10(root = './data',\n",
        "                                             train = True,\n",
        "                                             transform = all_transforms,\n",
        "                                             download = True)\n",
        "\n",
        "\n",
        "test_dataset = torchvision.datasets.CIFAR10(root = './data',\n",
        "                                            train = False,\n",
        "                                            transform = all_transforms,\n",
        "                                            download=True)\n",
        "\n",
        "\n",
        "train_loader = torch.utils.data.DataLoader(dataset = train_dataset,\n",
        "                                           batch_size = batch_size,\n",
        "                                           shuffle = True,\n",
        "                                          )\n",
        "\n",
        "\n",
        "test_loader = torch.utils.data.DataLoader(dataset = test_dataset,\n",
        "                                           batch_size = batch_size,\n",
        "                                           shuffle = True,\n",
        "                                          )"
      ],
      "metadata": {
        "colab": {
          "base_uri": "https://localhost:8080/"
        },
        "id": "RODFO82sqH6I",
        "outputId": "b1f6726a-dcc1-4bef-ad70-317715de792a"
      },
      "execution_count": 19,
      "outputs": [
        {
          "output_type": "stream",
          "name": "stdout",
          "text": [
            "Files already downloaded and verified\n",
            "Files already downloaded and verified\n"
          ]
        }
      ]
    },
    {
      "cell_type": "code",
      "source": [
        "class ConvNeuralNet(nn.Module):\n",
        "    def __init__(self, num_classes):\n",
        "        super(ConvNeuralNet, self).__init__()\n",
        "        self.flat = nn.Flatten()\n",
        "        self.fc1 = nn.Linear(3072,128)\n",
        "        self.relu1 = nn.ReLU()\n",
        "        self.fc2 = nn.Linear(128, 10)\n",
        "      \n",
        "    def forward(self, x):\n",
        "                \n",
        "        out = self.flat(x)\n",
        "        out = self.fc1(out)\n",
        "        out = self.relu1(out)\n",
        "        out = self.fc2(out)\n",
        "        return out"
      ],
      "metadata": {
        "id": "LUy_HaQwqKBw"
      },
      "execution_count": 20,
      "outputs": []
    },
    {
      "cell_type": "code",
      "source": [
        "model = ConvNeuralNet(num_classes).to(device)\n",
        "\n",
        "criterion = nn.CrossEntropyLoss()\n",
        "\n",
        "optimizer = torch.optim.SGD(model.parameters(), lr=learning_rate)  \n"
      ],
      "metadata": {
        "id": "p1AiO2AXqRzA"
      },
      "execution_count": 21,
      "outputs": []
    },
    {
      "cell_type": "code",
      "source": [
        "\n",
        "for epoch in range(num_epochs):\n",
        "  correct = 0\n",
        "  total = 0\n",
        "  for i,(images, labels) in enumerate(train_loader):  \n",
        "        \n",
        "        images = images.to(device)\n",
        "        labels = labels.to(device)\n",
        "        output = model(images)\n",
        "        loss = criterion(output, labels)\n",
        "        \n",
        "        optimizer.zero_grad()\n",
        "        loss.backward()\n",
        "        optimizer.step()\n",
        "        _, predicted = torch.max(output.data,1)\n",
        "        total += labels.size(0)\n",
        "        correct += (predicted == labels).sum().item()\n",
        "\n",
        "\n",
        "  print('Epoch [{}/{}], Loss: {:.4f}, Accuracy: {}% '.format(epoch+1, num_epochs, loss.item(),100 * correct / total))\n",
        "\n",
        "         \n"
      ],
      "metadata": {
        "colab": {
          "base_uri": "https://localhost:8080/"
        },
        "id": "6PIRDdy9qa7b",
        "outputId": "5b90b684-9e4b-48a8-d660-dde69b233f4d"
      },
      "execution_count": 22,
      "outputs": [
        {
          "output_type": "stream",
          "name": "stdout",
          "text": [
            "Epoch [1/50], Loss: 1.8135, Accuracy: 29.338% \n",
            "Epoch [2/50], Loss: 1.9493, Accuracy: 37.118% \n",
            "Epoch [3/50], Loss: 1.5347, Accuracy: 39.658% \n",
            "Epoch [4/50], Loss: 1.5328, Accuracy: 41.27% \n",
            "Epoch [5/50], Loss: 1.7860, Accuracy: 42.718% \n",
            "Epoch [6/50], Loss: 1.5020, Accuracy: 43.656% \n",
            "Epoch [7/50], Loss: 1.5923, Accuracy: 44.506% \n",
            "Epoch [8/50], Loss: 1.6737, Accuracy: 45.168% \n",
            "Epoch [9/50], Loss: 1.5867, Accuracy: 45.896% \n",
            "Epoch [10/50], Loss: 1.6064, Accuracy: 46.556% \n",
            "Epoch [11/50], Loss: 1.4534, Accuracy: 47.036% \n",
            "Epoch [12/50], Loss: 1.4733, Accuracy: 47.54% \n",
            "Epoch [13/50], Loss: 1.3521, Accuracy: 48.032% \n",
            "Epoch [14/50], Loss: 1.4661, Accuracy: 48.444% \n",
            "Epoch [15/50], Loss: 1.0807, Accuracy: 48.928% \n",
            "Epoch [16/50], Loss: 1.2745, Accuracy: 49.366% \n",
            "Epoch [17/50], Loss: 1.1845, Accuracy: 49.65% \n",
            "Epoch [18/50], Loss: 1.6577, Accuracy: 50.162% \n",
            "Epoch [19/50], Loss: 1.5977, Accuracy: 50.468% \n",
            "Epoch [20/50], Loss: 1.7457, Accuracy: 50.76% \n",
            "Epoch [21/50], Loss: 1.1406, Accuracy: 51.06% \n",
            "Epoch [22/50], Loss: 1.1717, Accuracy: 51.44% \n",
            "Epoch [23/50], Loss: 1.6117, Accuracy: 51.824% \n",
            "Epoch [24/50], Loss: 1.4380, Accuracy: 51.94% \n",
            "Epoch [25/50], Loss: 0.9578, Accuracy: 52.484% \n",
            "Epoch [26/50], Loss: 1.4702, Accuracy: 52.692% \n",
            "Epoch [27/50], Loss: 1.2837, Accuracy: 52.94% \n",
            "Epoch [28/50], Loss: 1.6002, Accuracy: 53.218% \n",
            "Epoch [29/50], Loss: 1.5749, Accuracy: 53.478% \n",
            "Epoch [30/50], Loss: 1.3139, Accuracy: 53.838% \n",
            "Epoch [31/50], Loss: 1.2937, Accuracy: 54.064% \n",
            "Epoch [32/50], Loss: 1.2533, Accuracy: 54.366% \n",
            "Epoch [33/50], Loss: 0.9362, Accuracy: 54.626% \n",
            "Epoch [34/50], Loss: 1.3972, Accuracy: 54.81% \n",
            "Epoch [35/50], Loss: 1.7131, Accuracy: 55.172% \n",
            "Epoch [36/50], Loss: 1.3856, Accuracy: 55.25% \n",
            "Epoch [37/50], Loss: 1.3222, Accuracy: 55.652% \n",
            "Epoch [38/50], Loss: 1.2155, Accuracy: 55.78% \n",
            "Epoch [39/50], Loss: 1.3344, Accuracy: 56.012% \n",
            "Epoch [40/50], Loss: 1.5815, Accuracy: 56.294% \n",
            "Epoch [41/50], Loss: 1.1347, Accuracy: 56.484% \n",
            "Epoch [42/50], Loss: 1.2447, Accuracy: 56.624% \n",
            "Epoch [43/50], Loss: 0.9563, Accuracy: 56.934% \n",
            "Epoch [44/50], Loss: 1.0582, Accuracy: 57.11% \n",
            "Epoch [45/50], Loss: 1.5027, Accuracy: 57.268% \n",
            "Epoch [46/50], Loss: 1.2723, Accuracy: 57.54% \n",
            "Epoch [47/50], Loss: 1.5356, Accuracy: 57.784% \n",
            "Epoch [48/50], Loss: 1.4740, Accuracy: 57.968% \n",
            "Epoch [49/50], Loss: 2.0812, Accuracy: 58.052% \n",
            "Epoch [50/50], Loss: 0.7444, Accuracy: 58.38% \n"
          ]
        }
      ]
    },
    {
      "cell_type": "code",
      "source": [
        "with torch.no_grad():\n",
        "    correct = 0\n",
        "    total = 0\n",
        "    for images, labels in train_loader:\n",
        "        images = images.to(device)\n",
        "        labels = labels.to(device)\n",
        "        outputs = model(images)\n",
        "        _, predicted = torch.max(outputs.data, 1)\n",
        "        total += labels.size(0)\n",
        "        correct += (predicted == labels).sum().item()\n",
        "    \n",
        "    print('Accuracy of the network : {} %'.format(100 * correct / total))\n",
        "\n"
      ],
      "metadata": {
        "colab": {
          "base_uri": "https://localhost:8080/"
        },
        "id": "DrxqVAEZqd40",
        "outputId": "7af1eb67-2af8-4406-a4c8-7ddc1f38ce04"
      },
      "execution_count": 23,
      "outputs": [
        {
          "output_type": "stream",
          "name": "stdout",
          "text": [
            "Accuracy of the network : 58.88 %\n"
          ]
        }
      ]
    }
  ]
}