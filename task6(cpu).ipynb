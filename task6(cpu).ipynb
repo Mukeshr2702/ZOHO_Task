{
  "nbformat": 4,
  "nbformat_minor": 0,
  "metadata": {
    "colab": {
      "provenance": []
    },
    "kernelspec": {
      "name": "python3",
      "display_name": "Python 3"
    },
    "language_info": {
      "name": "python"
    },
    "widgets": {
      "application/vnd.jupyter.widget-state+json": {
        "e5c3daa60da841849cd5f9af6bb8bb02": {
          "model_module": "@jupyter-widgets/controls",
          "model_name": "HBoxModel",
          "model_module_version": "1.5.0",
          "state": {
            "_dom_classes": [],
            "_model_module": "@jupyter-widgets/controls",
            "_model_module_version": "1.5.0",
            "_model_name": "HBoxModel",
            "_view_count": null,
            "_view_module": "@jupyter-widgets/controls",
            "_view_module_version": "1.5.0",
            "_view_name": "HBoxView",
            "box_style": "",
            "children": [
              "IPY_MODEL_33c7e0c417074191b30c72b25e911a90",
              "IPY_MODEL_7d26011ba17940648ef212a4d5f0fbee",
              "IPY_MODEL_150936884a694e7190b8aec4018bcd83"
            ],
            "layout": "IPY_MODEL_e5a81fd9d0494025b28969a6e6f0ab44"
          }
        },
        "33c7e0c417074191b30c72b25e911a90": {
          "model_module": "@jupyter-widgets/controls",
          "model_name": "HTMLModel",
          "model_module_version": "1.5.0",
          "state": {
            "_dom_classes": [],
            "_model_module": "@jupyter-widgets/controls",
            "_model_module_version": "1.5.0",
            "_model_name": "HTMLModel",
            "_view_count": null,
            "_view_module": "@jupyter-widgets/controls",
            "_view_module_version": "1.5.0",
            "_view_name": "HTMLView",
            "description": "",
            "description_tooltip": null,
            "layout": "IPY_MODEL_6f125d9677254e5d9b3dccc7bfd2f188",
            "placeholder": "​",
            "style": "IPY_MODEL_81c13c322d0541a88d38824746086072",
            "value": "100%"
          }
        },
        "7d26011ba17940648ef212a4d5f0fbee": {
          "model_module": "@jupyter-widgets/controls",
          "model_name": "FloatProgressModel",
          "model_module_version": "1.5.0",
          "state": {
            "_dom_classes": [],
            "_model_module": "@jupyter-widgets/controls",
            "_model_module_version": "1.5.0",
            "_model_name": "FloatProgressModel",
            "_view_count": null,
            "_view_module": "@jupyter-widgets/controls",
            "_view_module_version": "1.5.0",
            "_view_name": "ProgressView",
            "bar_style": "success",
            "description": "",
            "description_tooltip": null,
            "layout": "IPY_MODEL_89f58f3f24f34694971431ea3d37d696",
            "max": 170498071,
            "min": 0,
            "orientation": "horizontal",
            "style": "IPY_MODEL_3205e9d90e5649ad9b54d40b7f0384ed",
            "value": 170498071
          }
        },
        "150936884a694e7190b8aec4018bcd83": {
          "model_module": "@jupyter-widgets/controls",
          "model_name": "HTMLModel",
          "model_module_version": "1.5.0",
          "state": {
            "_dom_classes": [],
            "_model_module": "@jupyter-widgets/controls",
            "_model_module_version": "1.5.0",
            "_model_name": "HTMLModel",
            "_view_count": null,
            "_view_module": "@jupyter-widgets/controls",
            "_view_module_version": "1.5.0",
            "_view_name": "HTMLView",
            "description": "",
            "description_tooltip": null,
            "layout": "IPY_MODEL_4f3a1ed5cd3f4b23a04d8c6913ae0143",
            "placeholder": "​",
            "style": "IPY_MODEL_48b6140bf60741daa0c2df578bc7400e",
            "value": " 170498071/170498071 [00:02&lt;00:00, 69826275.38it/s]"
          }
        },
        "e5a81fd9d0494025b28969a6e6f0ab44": {
          "model_module": "@jupyter-widgets/base",
          "model_name": "LayoutModel",
          "model_module_version": "1.2.0",
          "state": {
            "_model_module": "@jupyter-widgets/base",
            "_model_module_version": "1.2.0",
            "_model_name": "LayoutModel",
            "_view_count": null,
            "_view_module": "@jupyter-widgets/base",
            "_view_module_version": "1.2.0",
            "_view_name": "LayoutView",
            "align_content": null,
            "align_items": null,
            "align_self": null,
            "border": null,
            "bottom": null,
            "display": null,
            "flex": null,
            "flex_flow": null,
            "grid_area": null,
            "grid_auto_columns": null,
            "grid_auto_flow": null,
            "grid_auto_rows": null,
            "grid_column": null,
            "grid_gap": null,
            "grid_row": null,
            "grid_template_areas": null,
            "grid_template_columns": null,
            "grid_template_rows": null,
            "height": null,
            "justify_content": null,
            "justify_items": null,
            "left": null,
            "margin": null,
            "max_height": null,
            "max_width": null,
            "min_height": null,
            "min_width": null,
            "object_fit": null,
            "object_position": null,
            "order": null,
            "overflow": null,
            "overflow_x": null,
            "overflow_y": null,
            "padding": null,
            "right": null,
            "top": null,
            "visibility": null,
            "width": null
          }
        },
        "6f125d9677254e5d9b3dccc7bfd2f188": {
          "model_module": "@jupyter-widgets/base",
          "model_name": "LayoutModel",
          "model_module_version": "1.2.0",
          "state": {
            "_model_module": "@jupyter-widgets/base",
            "_model_module_version": "1.2.0",
            "_model_name": "LayoutModel",
            "_view_count": null,
            "_view_module": "@jupyter-widgets/base",
            "_view_module_version": "1.2.0",
            "_view_name": "LayoutView",
            "align_content": null,
            "align_items": null,
            "align_self": null,
            "border": null,
            "bottom": null,
            "display": null,
            "flex": null,
            "flex_flow": null,
            "grid_area": null,
            "grid_auto_columns": null,
            "grid_auto_flow": null,
            "grid_auto_rows": null,
            "grid_column": null,
            "grid_gap": null,
            "grid_row": null,
            "grid_template_areas": null,
            "grid_template_columns": null,
            "grid_template_rows": null,
            "height": null,
            "justify_content": null,
            "justify_items": null,
            "left": null,
            "margin": null,
            "max_height": null,
            "max_width": null,
            "min_height": null,
            "min_width": null,
            "object_fit": null,
            "object_position": null,
            "order": null,
            "overflow": null,
            "overflow_x": null,
            "overflow_y": null,
            "padding": null,
            "right": null,
            "top": null,
            "visibility": null,
            "width": null
          }
        },
        "81c13c322d0541a88d38824746086072": {
          "model_module": "@jupyter-widgets/controls",
          "model_name": "DescriptionStyleModel",
          "model_module_version": "1.5.0",
          "state": {
            "_model_module": "@jupyter-widgets/controls",
            "_model_module_version": "1.5.0",
            "_model_name": "DescriptionStyleModel",
            "_view_count": null,
            "_view_module": "@jupyter-widgets/base",
            "_view_module_version": "1.2.0",
            "_view_name": "StyleView",
            "description_width": ""
          }
        },
        "89f58f3f24f34694971431ea3d37d696": {
          "model_module": "@jupyter-widgets/base",
          "model_name": "LayoutModel",
          "model_module_version": "1.2.0",
          "state": {
            "_model_module": "@jupyter-widgets/base",
            "_model_module_version": "1.2.0",
            "_model_name": "LayoutModel",
            "_view_count": null,
            "_view_module": "@jupyter-widgets/base",
            "_view_module_version": "1.2.0",
            "_view_name": "LayoutView",
            "align_content": null,
            "align_items": null,
            "align_self": null,
            "border": null,
            "bottom": null,
            "display": null,
            "flex": null,
            "flex_flow": null,
            "grid_area": null,
            "grid_auto_columns": null,
            "grid_auto_flow": null,
            "grid_auto_rows": null,
            "grid_column": null,
            "grid_gap": null,
            "grid_row": null,
            "grid_template_areas": null,
            "grid_template_columns": null,
            "grid_template_rows": null,
            "height": null,
            "justify_content": null,
            "justify_items": null,
            "left": null,
            "margin": null,
            "max_height": null,
            "max_width": null,
            "min_height": null,
            "min_width": null,
            "object_fit": null,
            "object_position": null,
            "order": null,
            "overflow": null,
            "overflow_x": null,
            "overflow_y": null,
            "padding": null,
            "right": null,
            "top": null,
            "visibility": null,
            "width": null
          }
        },
        "3205e9d90e5649ad9b54d40b7f0384ed": {
          "model_module": "@jupyter-widgets/controls",
          "model_name": "ProgressStyleModel",
          "model_module_version": "1.5.0",
          "state": {
            "_model_module": "@jupyter-widgets/controls",
            "_model_module_version": "1.5.0",
            "_model_name": "ProgressStyleModel",
            "_view_count": null,
            "_view_module": "@jupyter-widgets/base",
            "_view_module_version": "1.2.0",
            "_view_name": "StyleView",
            "bar_color": null,
            "description_width": ""
          }
        },
        "4f3a1ed5cd3f4b23a04d8c6913ae0143": {
          "model_module": "@jupyter-widgets/base",
          "model_name": "LayoutModel",
          "model_module_version": "1.2.0",
          "state": {
            "_model_module": "@jupyter-widgets/base",
            "_model_module_version": "1.2.0",
            "_model_name": "LayoutModel",
            "_view_count": null,
            "_view_module": "@jupyter-widgets/base",
            "_view_module_version": "1.2.0",
            "_view_name": "LayoutView",
            "align_content": null,
            "align_items": null,
            "align_self": null,
            "border": null,
            "bottom": null,
            "display": null,
            "flex": null,
            "flex_flow": null,
            "grid_area": null,
            "grid_auto_columns": null,
            "grid_auto_flow": null,
            "grid_auto_rows": null,
            "grid_column": null,
            "grid_gap": null,
            "grid_row": null,
            "grid_template_areas": null,
            "grid_template_columns": null,
            "grid_template_rows": null,
            "height": null,
            "justify_content": null,
            "justify_items": null,
            "left": null,
            "margin": null,
            "max_height": null,
            "max_width": null,
            "min_height": null,
            "min_width": null,
            "object_fit": null,
            "object_position": null,
            "order": null,
            "overflow": null,
            "overflow_x": null,
            "overflow_y": null,
            "padding": null,
            "right": null,
            "top": null,
            "visibility": null,
            "width": null
          }
        },
        "48b6140bf60741daa0c2df578bc7400e": {
          "model_module": "@jupyter-widgets/controls",
          "model_name": "DescriptionStyleModel",
          "model_module_version": "1.5.0",
          "state": {
            "_model_module": "@jupyter-widgets/controls",
            "_model_module_version": "1.5.0",
            "_model_name": "DescriptionStyleModel",
            "_view_count": null,
            "_view_module": "@jupyter-widgets/base",
            "_view_module_version": "1.2.0",
            "_view_name": "StyleView",
            "description_width": ""
          }
        }
      }
    }
  },
  "cells": [
    {
      "cell_type": "code",
      "execution_count": 1,
      "metadata": {
        "colab": {
          "base_uri": "https://localhost:8080/"
        },
        "id": "2OyGxRS_qGKz",
        "outputId": "e969dfec-dbb7-4d90-8893-e373c31de40b"
      },
      "outputs": [
        {
          "output_type": "stream",
          "name": "stdout",
          "text": [
            "cpu\n"
          ]
        }
      ],
      "source": [
        "\n",
        "import torch\n",
        "import torch.nn as nn\n",
        "import torchvision\n",
        "import torchvision.transforms as transforms\n",
        "import time\n",
        "\n",
        "\n",
        "start = time.time()\n",
        "batch_size = 32\n",
        "num_classes = 10\n",
        "learning_rate = 0.001\n",
        "num_epochs = 50\n",
        "\n",
        "device = torch.device('cuda' if torch.cuda.is_available() else 'cpu')\n",
        "print(device)"
      ]
    },
    {
      "cell_type": "code",
      "source": [
        "from torch.utils.data import dataset\n",
        "\n",
        "all_transforms = transforms.Compose([transforms.Resize((32,32)),\n",
        "                                     transforms.ToTensor(),\n",
        "                                     transforms.Normalize(mean=[0.4914, 0.4822, 0.4465],\n",
        "                                                          std=[0.2023, 0.1994, 0.2010])\n",
        "                                     ])\n",
        "train_dataset = torchvision.datasets.CIFAR10(root = './data',\n",
        "                                             train = True,\n",
        "                                             transform = all_transforms,\n",
        "                                             download = True)\n",
        "\n",
        "\n",
        "test_dataset = torchvision.datasets.CIFAR10(root = './data',\n",
        "                                            train = False,\n",
        "                                            transform = all_transforms,\n",
        "                                            download=True)\n",
        "\n",
        "\n",
        "train_loader = torch.utils.data.DataLoader(dataset = train_dataset,\n",
        "                                           batch_size = batch_size,\n",
        "                                           shuffle = True,\n",
        "                                          )\n",
        "\n",
        "\n",
        "test_loader = torch.utils.data.DataLoader(dataset = test_dataset,\n",
        "                                           batch_size = batch_size,\n",
        "                                           shuffle = True,\n",
        "                                          )"
      ],
      "metadata": {
        "colab": {
          "base_uri": "https://localhost:8080/",
          "height": 101,
          "referenced_widgets": [
            "e5c3daa60da841849cd5f9af6bb8bb02",
            "33c7e0c417074191b30c72b25e911a90",
            "7d26011ba17940648ef212a4d5f0fbee",
            "150936884a694e7190b8aec4018bcd83",
            "e5a81fd9d0494025b28969a6e6f0ab44",
            "6f125d9677254e5d9b3dccc7bfd2f188",
            "81c13c322d0541a88d38824746086072",
            "89f58f3f24f34694971431ea3d37d696",
            "3205e9d90e5649ad9b54d40b7f0384ed",
            "4f3a1ed5cd3f4b23a04d8c6913ae0143",
            "48b6140bf60741daa0c2df578bc7400e"
          ]
        },
        "id": "RODFO82sqH6I",
        "outputId": "09cf6ba1-8845-4318-f02b-4f1c97c4e9bf"
      },
      "execution_count": 2,
      "outputs": [
        {
          "output_type": "stream",
          "name": "stdout",
          "text": [
            "Downloading https://www.cs.toronto.edu/~kriz/cifar-10-python.tar.gz to ./data/cifar-10-python.tar.gz\n"
          ]
        },
        {
          "output_type": "display_data",
          "data": {
            "text/plain": [
              "  0%|          | 0/170498071 [00:00<?, ?it/s]"
            ],
            "application/vnd.jupyter.widget-view+json": {
              "version_major": 2,
              "version_minor": 0,
              "model_id": "e5c3daa60da841849cd5f9af6bb8bb02"
            }
          },
          "metadata": {}
        },
        {
          "output_type": "stream",
          "name": "stdout",
          "text": [
            "Extracting ./data/cifar-10-python.tar.gz to ./data\n",
            "Files already downloaded and verified\n"
          ]
        }
      ]
    },
    {
      "cell_type": "code",
      "source": [
        "class ConvNeuralNet(nn.Module):\n",
        "    def __init__(self, num_classes):\n",
        "        super(ConvNeuralNet, self).__init__()\n",
        "        self.flat = nn.Flatten()\n",
        "        self.fc1 = nn.Linear(3072,128)\n",
        "        self.relu1 = nn.ReLU()\n",
        "        self.fc2 = nn.Linear(128, 10)\n",
        "      \n",
        "    def forward(self, x):\n",
        "                \n",
        "        out = self.flat(x)\n",
        "        out = self.fc1(out)\n",
        "        out = self.relu1(out)\n",
        "        out = self.fc2(out)\n",
        "        return out"
      ],
      "metadata": {
        "id": "LUy_HaQwqKBw"
      },
      "execution_count": 3,
      "outputs": []
    },
    {
      "cell_type": "code",
      "source": [
        "model = ConvNeuralNet(num_classes).to(device)\n",
        "\n",
        "criterion = nn.CrossEntropyLoss()\n",
        "\n",
        "optimizer = torch.optim.SGD(model.parameters(), lr=learning_rate)  \n"
      ],
      "metadata": {
        "id": "p1AiO2AXqRzA"
      },
      "execution_count": 4,
      "outputs": []
    },
    {
      "cell_type": "code",
      "source": [
        "\n",
        "for epoch in range(num_epochs):\n",
        "  correct = 0\n",
        "  total = 0\n",
        "  for i,(images, labels) in enumerate(train_loader):  \n",
        "        \n",
        "        images = images.to(device)\n",
        "        labels = labels.to(device)\n",
        "        output = model(images)\n",
        "        loss = criterion(output, labels)\n",
        "        \n",
        "        optimizer.zero_grad()\n",
        "        loss.backward()\n",
        "        optimizer.step()\n",
        "        _, predicted = torch.max(output.data,1)\n",
        "        total += labels.size(0)\n",
        "        correct += (predicted == labels).sum().item()\n",
        "\n",
        "\n",
        "  print('Epoch [{}/{}], Loss: {:.4f}, Accuracy: {}% '.format(epoch+1, num_epochs, loss.item(),100 * correct / total))\n",
        "\n",
        "         \n"
      ],
      "metadata": {
        "colab": {
          "base_uri": "https://localhost:8080/"
        },
        "id": "6PIRDdy9qa7b",
        "outputId": "be5e808e-02cb-4ec5-efbe-927afc5654e4"
      },
      "execution_count": 5,
      "outputs": [
        {
          "output_type": "stream",
          "name": "stdout",
          "text": [
            "Epoch [1/50], Loss: 1.8741, Accuracy: 32.53% \n",
            "Epoch [2/50], Loss: 1.5046, Accuracy: 40.002% \n",
            "Epoch [3/50], Loss: 1.2085, Accuracy: 42.794% \n",
            "Epoch [4/50], Loss: 1.9142, Accuracy: 44.43% \n",
            "Epoch [5/50], Loss: 1.8257, Accuracy: 45.898% \n",
            "Epoch [6/50], Loss: 1.2174, Accuracy: 46.91% \n",
            "Epoch [7/50], Loss: 1.3537, Accuracy: 47.874% \n",
            "Epoch [8/50], Loss: 1.3777, Accuracy: 48.602% \n",
            "Epoch [9/50], Loss: 1.9547, Accuracy: 49.464% \n",
            "Epoch [10/50], Loss: 1.4409, Accuracy: 50.152% \n",
            "Epoch [11/50], Loss: 1.9587, Accuracy: 50.878% \n",
            "Epoch [12/50], Loss: 1.6030, Accuracy: 51.376% \n",
            "Epoch [13/50], Loss: 1.7361, Accuracy: 52.118% \n",
            "Epoch [14/50], Loss: 1.3272, Accuracy: 52.626% \n",
            "Epoch [15/50], Loss: 1.4063, Accuracy: 53.184% \n",
            "Epoch [16/50], Loss: 1.4814, Accuracy: 53.83% \n",
            "Epoch [17/50], Loss: 1.2957, Accuracy: 54.416% \n",
            "Epoch [18/50], Loss: 1.5033, Accuracy: 54.82% \n",
            "Epoch [19/50], Loss: 1.1835, Accuracy: 55.206% \n",
            "Epoch [20/50], Loss: 1.2525, Accuracy: 55.59% \n",
            "Epoch [21/50], Loss: 1.0705, Accuracy: 56.154% \n",
            "Epoch [22/50], Loss: 1.5498, Accuracy: 56.482% \n",
            "Epoch [23/50], Loss: 1.2407, Accuracy: 57.05% \n",
            "Epoch [24/50], Loss: 1.2478, Accuracy: 57.282% \n",
            "Epoch [25/50], Loss: 1.2583, Accuracy: 57.532% \n",
            "Epoch [26/50], Loss: 1.2068, Accuracy: 58.032% \n",
            "Epoch [27/50], Loss: 1.0998, Accuracy: 58.386% \n",
            "Epoch [28/50], Loss: 1.5155, Accuracy: 58.878% \n",
            "Epoch [29/50], Loss: 1.0563, Accuracy: 59.082% \n",
            "Epoch [30/50], Loss: 1.2263, Accuracy: 59.392% \n",
            "Epoch [31/50], Loss: 1.0769, Accuracy: 59.712% \n",
            "Epoch [32/50], Loss: 0.8703, Accuracy: 60.038% \n",
            "Epoch [33/50], Loss: 0.8780, Accuracy: 60.262% \n",
            "Epoch [34/50], Loss: 0.9292, Accuracy: 60.644% \n",
            "Epoch [35/50], Loss: 1.0988, Accuracy: 60.85% \n",
            "Epoch [36/50], Loss: 1.0669, Accuracy: 61.286% \n",
            "Epoch [37/50], Loss: 1.0661, Accuracy: 61.538% \n",
            "Epoch [38/50], Loss: 0.8309, Accuracy: 61.89% \n",
            "Epoch [39/50], Loss: 1.2123, Accuracy: 62.014% \n",
            "Epoch [40/50], Loss: 0.9912, Accuracy: 62.366% \n",
            "Epoch [41/50], Loss: 1.2933, Accuracy: 62.56% \n",
            "Epoch [42/50], Loss: 1.1340, Accuracy: 62.952% \n",
            "Epoch [43/50], Loss: 1.2883, Accuracy: 63.016% \n",
            "Epoch [44/50], Loss: 1.1799, Accuracy: 63.416% \n",
            "Epoch [45/50], Loss: 1.1004, Accuracy: 63.736% \n",
            "Epoch [46/50], Loss: 0.7760, Accuracy: 63.954% \n",
            "Epoch [47/50], Loss: 1.2132, Accuracy: 64.236% \n",
            "Epoch [48/50], Loss: 0.7831, Accuracy: 64.512% \n",
            "Epoch [49/50], Loss: 0.8494, Accuracy: 64.602% \n",
            "Epoch [50/50], Loss: 1.2486, Accuracy: 64.964% \n"
          ]
        }
      ]
    },
    {
      "cell_type": "code",
      "source": [
        "with torch.no_grad():\n",
        "    correct = 0\n",
        "    total = 0\n",
        "    for images, labels in train_loader:\n",
        "        images = images.to(device)\n",
        "        labels = labels.to(device)\n",
        "        outputs = model(images)\n",
        "        _, predicted = torch.max(outputs.data, 1)\n",
        "        total += labels.size(0)\n",
        "        correct += (predicted == labels).sum().item()\n",
        "    \n",
        "    print('Accuracy of the network : {} %'.format(100 * correct / total))\n",
        "    end=time.time()-start\n",
        "    print(\"Time taken : {}seconds\".format(end))\n",
        "\n"
      ],
      "metadata": {
        "colab": {
          "base_uri": "https://localhost:8080/"
        },
        "id": "DrxqVAEZqd40",
        "outputId": "80a03928-7ebf-435f-ce70-e79a72cdb32c"
      },
      "execution_count": 6,
      "outputs": [
        {
          "output_type": "stream",
          "name": "stdout",
          "text": [
            "Accuracy of the network : 66.05 %\n",
            "Time taken : 990.1442956924438seconds\n"
          ]
        }
      ]
    }
  ]
}