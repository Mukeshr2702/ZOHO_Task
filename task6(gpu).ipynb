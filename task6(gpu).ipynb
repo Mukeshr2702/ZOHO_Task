{
  "nbformat": 4,
  "nbformat_minor": 0,
  "metadata": {
    "colab": {
      "provenance": []
    },
    "kernelspec": {
      "name": "python3",
      "display_name": "Python 3"
    },
    "language_info": {
      "name": "python"
    },
    "accelerator": "GPU",
    "widgets": {
      "application/vnd.jupyter.widget-state+json": {
        "7b727d2bf676447d8eb4e576b7144d23": {
          "model_module": "@jupyter-widgets/controls",
          "model_name": "HBoxModel",
          "model_module_version": "1.5.0",
          "state": {
            "_dom_classes": [],
            "_model_module": "@jupyter-widgets/controls",
            "_model_module_version": "1.5.0",
            "_model_name": "HBoxModel",
            "_view_count": null,
            "_view_module": "@jupyter-widgets/controls",
            "_view_module_version": "1.5.0",
            "_view_name": "HBoxView",
            "box_style": "",
            "children": [
              "IPY_MODEL_ecb05678838f42c48ae67415e2ba8067",
              "IPY_MODEL_e70cbd11c51443a3b5e60b18818b9864",
              "IPY_MODEL_dfda5d6ef2c3428aa87a704214ee427f"
            ],
            "layout": "IPY_MODEL_2df0686985a24a97a3ba6cda24de387d"
          }
        },
        "ecb05678838f42c48ae67415e2ba8067": {
          "model_module": "@jupyter-widgets/controls",
          "model_name": "HTMLModel",
          "model_module_version": "1.5.0",
          "state": {
            "_dom_classes": [],
            "_model_module": "@jupyter-widgets/controls",
            "_model_module_version": "1.5.0",
            "_model_name": "HTMLModel",
            "_view_count": null,
            "_view_module": "@jupyter-widgets/controls",
            "_view_module_version": "1.5.0",
            "_view_name": "HTMLView",
            "description": "",
            "description_tooltip": null,
            "layout": "IPY_MODEL_64f6fcd424934378abec713ae1b52d40",
            "placeholder": "​",
            "style": "IPY_MODEL_61a6c8c0249b445ba7bdab1c89cfd981",
            "value": "100%"
          }
        },
        "e70cbd11c51443a3b5e60b18818b9864": {
          "model_module": "@jupyter-widgets/controls",
          "model_name": "FloatProgressModel",
          "model_module_version": "1.5.0",
          "state": {
            "_dom_classes": [],
            "_model_module": "@jupyter-widgets/controls",
            "_model_module_version": "1.5.0",
            "_model_name": "FloatProgressModel",
            "_view_count": null,
            "_view_module": "@jupyter-widgets/controls",
            "_view_module_version": "1.5.0",
            "_view_name": "ProgressView",
            "bar_style": "success",
            "description": "",
            "description_tooltip": null,
            "layout": "IPY_MODEL_9b33e2d1d1394ada8ea77b225d4f73c9",
            "max": 170498071,
            "min": 0,
            "orientation": "horizontal",
            "style": "IPY_MODEL_bd4264755c6e47e9b1d376df7586ab9c",
            "value": 170498071
          }
        },
        "dfda5d6ef2c3428aa87a704214ee427f": {
          "model_module": "@jupyter-widgets/controls",
          "model_name": "HTMLModel",
          "model_module_version": "1.5.0",
          "state": {
            "_dom_classes": [],
            "_model_module": "@jupyter-widgets/controls",
            "_model_module_version": "1.5.0",
            "_model_name": "HTMLModel",
            "_view_count": null,
            "_view_module": "@jupyter-widgets/controls",
            "_view_module_version": "1.5.0",
            "_view_name": "HTMLView",
            "description": "",
            "description_tooltip": null,
            "layout": "IPY_MODEL_60ccb4e3ec6f41069942c625d8a8ed0d",
            "placeholder": "​",
            "style": "IPY_MODEL_0c416378c98041e489566958e5c4bba7",
            "value": " 170498071/170498071 [00:14&lt;00:00, 12223544.54it/s]"
          }
        },
        "2df0686985a24a97a3ba6cda24de387d": {
          "model_module": "@jupyter-widgets/base",
          "model_name": "LayoutModel",
          "model_module_version": "1.2.0",
          "state": {
            "_model_module": "@jupyter-widgets/base",
            "_model_module_version": "1.2.0",
            "_model_name": "LayoutModel",
            "_view_count": null,
            "_view_module": "@jupyter-widgets/base",
            "_view_module_version": "1.2.0",
            "_view_name": "LayoutView",
            "align_content": null,
            "align_items": null,
            "align_self": null,
            "border": null,
            "bottom": null,
            "display": null,
            "flex": null,
            "flex_flow": null,
            "grid_area": null,
            "grid_auto_columns": null,
            "grid_auto_flow": null,
            "grid_auto_rows": null,
            "grid_column": null,
            "grid_gap": null,
            "grid_row": null,
            "grid_template_areas": null,
            "grid_template_columns": null,
            "grid_template_rows": null,
            "height": null,
            "justify_content": null,
            "justify_items": null,
            "left": null,
            "margin": null,
            "max_height": null,
            "max_width": null,
            "min_height": null,
            "min_width": null,
            "object_fit": null,
            "object_position": null,
            "order": null,
            "overflow": null,
            "overflow_x": null,
            "overflow_y": null,
            "padding": null,
            "right": null,
            "top": null,
            "visibility": null,
            "width": null
          }
        },
        "64f6fcd424934378abec713ae1b52d40": {
          "model_module": "@jupyter-widgets/base",
          "model_name": "LayoutModel",
          "model_module_version": "1.2.0",
          "state": {
            "_model_module": "@jupyter-widgets/base",
            "_model_module_version": "1.2.0",
            "_model_name": "LayoutModel",
            "_view_count": null,
            "_view_module": "@jupyter-widgets/base",
            "_view_module_version": "1.2.0",
            "_view_name": "LayoutView",
            "align_content": null,
            "align_items": null,
            "align_self": null,
            "border": null,
            "bottom": null,
            "display": null,
            "flex": null,
            "flex_flow": null,
            "grid_area": null,
            "grid_auto_columns": null,
            "grid_auto_flow": null,
            "grid_auto_rows": null,
            "grid_column": null,
            "grid_gap": null,
            "grid_row": null,
            "grid_template_areas": null,
            "grid_template_columns": null,
            "grid_template_rows": null,
            "height": null,
            "justify_content": null,
            "justify_items": null,
            "left": null,
            "margin": null,
            "max_height": null,
            "max_width": null,
            "min_height": null,
            "min_width": null,
            "object_fit": null,
            "object_position": null,
            "order": null,
            "overflow": null,
            "overflow_x": null,
            "overflow_y": null,
            "padding": null,
            "right": null,
            "top": null,
            "visibility": null,
            "width": null
          }
        },
        "61a6c8c0249b445ba7bdab1c89cfd981": {
          "model_module": "@jupyter-widgets/controls",
          "model_name": "DescriptionStyleModel",
          "model_module_version": "1.5.0",
          "state": {
            "_model_module": "@jupyter-widgets/controls",
            "_model_module_version": "1.5.0",
            "_model_name": "DescriptionStyleModel",
            "_view_count": null,
            "_view_module": "@jupyter-widgets/base",
            "_view_module_version": "1.2.0",
            "_view_name": "StyleView",
            "description_width": ""
          }
        },
        "9b33e2d1d1394ada8ea77b225d4f73c9": {
          "model_module": "@jupyter-widgets/base",
          "model_name": "LayoutModel",
          "model_module_version": "1.2.0",
          "state": {
            "_model_module": "@jupyter-widgets/base",
            "_model_module_version": "1.2.0",
            "_model_name": "LayoutModel",
            "_view_count": null,
            "_view_module": "@jupyter-widgets/base",
            "_view_module_version": "1.2.0",
            "_view_name": "LayoutView",
            "align_content": null,
            "align_items": null,
            "align_self": null,
            "border": null,
            "bottom": null,
            "display": null,
            "flex": null,
            "flex_flow": null,
            "grid_area": null,
            "grid_auto_columns": null,
            "grid_auto_flow": null,
            "grid_auto_rows": null,
            "grid_column": null,
            "grid_gap": null,
            "grid_row": null,
            "grid_template_areas": null,
            "grid_template_columns": null,
            "grid_template_rows": null,
            "height": null,
            "justify_content": null,
            "justify_items": null,
            "left": null,
            "margin": null,
            "max_height": null,
            "max_width": null,
            "min_height": null,
            "min_width": null,
            "object_fit": null,
            "object_position": null,
            "order": null,
            "overflow": null,
            "overflow_x": null,
            "overflow_y": null,
            "padding": null,
            "right": null,
            "top": null,
            "visibility": null,
            "width": null
          }
        },
        "bd4264755c6e47e9b1d376df7586ab9c": {
          "model_module": "@jupyter-widgets/controls",
          "model_name": "ProgressStyleModel",
          "model_module_version": "1.5.0",
          "state": {
            "_model_module": "@jupyter-widgets/controls",
            "_model_module_version": "1.5.0",
            "_model_name": "ProgressStyleModel",
            "_view_count": null,
            "_view_module": "@jupyter-widgets/base",
            "_view_module_version": "1.2.0",
            "_view_name": "StyleView",
            "bar_color": null,
            "description_width": ""
          }
        },
        "60ccb4e3ec6f41069942c625d8a8ed0d": {
          "model_module": "@jupyter-widgets/base",
          "model_name": "LayoutModel",
          "model_module_version": "1.2.0",
          "state": {
            "_model_module": "@jupyter-widgets/base",
            "_model_module_version": "1.2.0",
            "_model_name": "LayoutModel",
            "_view_count": null,
            "_view_module": "@jupyter-widgets/base",
            "_view_module_version": "1.2.0",
            "_view_name": "LayoutView",
            "align_content": null,
            "align_items": null,
            "align_self": null,
            "border": null,
            "bottom": null,
            "display": null,
            "flex": null,
            "flex_flow": null,
            "grid_area": null,
            "grid_auto_columns": null,
            "grid_auto_flow": null,
            "grid_auto_rows": null,
            "grid_column": null,
            "grid_gap": null,
            "grid_row": null,
            "grid_template_areas": null,
            "grid_template_columns": null,
            "grid_template_rows": null,
            "height": null,
            "justify_content": null,
            "justify_items": null,
            "left": null,
            "margin": null,
            "max_height": null,
            "max_width": null,
            "min_height": null,
            "min_width": null,
            "object_fit": null,
            "object_position": null,
            "order": null,
            "overflow": null,
            "overflow_x": null,
            "overflow_y": null,
            "padding": null,
            "right": null,
            "top": null,
            "visibility": null,
            "width": null
          }
        },
        "0c416378c98041e489566958e5c4bba7": {
          "model_module": "@jupyter-widgets/controls",
          "model_name": "DescriptionStyleModel",
          "model_module_version": "1.5.0",
          "state": {
            "_model_module": "@jupyter-widgets/controls",
            "_model_module_version": "1.5.0",
            "_model_name": "DescriptionStyleModel",
            "_view_count": null,
            "_view_module": "@jupyter-widgets/base",
            "_view_module_version": "1.2.0",
            "_view_name": "StyleView",
            "description_width": ""
          }
        }
      }
    }
  },
  "cells": [
    {
      "cell_type": "code",
      "execution_count": 1,
      "metadata": {
        "colab": {
          "base_uri": "https://localhost:8080/"
        },
        "id": "2OyGxRS_qGKz",
        "outputId": "2f514824-a593-46dc-d67c-1efd250845f1"
      },
      "outputs": [
        {
          "output_type": "stream",
          "name": "stdout",
          "text": [
            "cuda\n"
          ]
        }
      ],
      "source": [
        "\n",
        "import torch\n",
        "import torch.nn as nn\n",
        "import torchvision\n",
        "import torchvision.transforms as transforms\n",
        "import time\n",
        "\n",
        "\n",
        "start = time.time()\n",
        "batch_size = 32\n",
        "num_classes = 10\n",
        "learning_rate = 0.001\n",
        "num_epochs = 50\n",
        "\n",
        "device = torch.device('cuda' if torch.cuda.is_available() else 'cpu')\n",
        "print(device)"
      ]
    },
    {
      "cell_type": "code",
      "source": [
        "from torch.utils.data import dataset\n",
        "\n",
        "all_transforms = transforms.Compose([transforms.Resize((32,32)),\n",
        "                                     transforms.ToTensor(),\n",
        "                                     transforms.Normalize(mean=[0.4914, 0.4822, 0.4465],\n",
        "                                                          std=[0.2023, 0.1994, 0.2010])\n",
        "                                     ])\n",
        "train_dataset = torchvision.datasets.CIFAR10(root = './data',\n",
        "                                             train = True,\n",
        "                                             transform = all_transforms,\n",
        "                                             download = True)\n",
        "\n",
        "\n",
        "test_dataset = torchvision.datasets.CIFAR10(root = './data',\n",
        "                                            train = False,\n",
        "                                            transform = all_transforms,\n",
        "                                            download=True)\n",
        "\n",
        "\n",
        "train_loader = torch.utils.data.DataLoader(dataset = train_dataset,\n",
        "                                           batch_size = batch_size,\n",
        "                                           shuffle = True,\n",
        "                                          )\n",
        "\n",
        "\n",
        "test_loader = torch.utils.data.DataLoader(dataset = test_dataset,\n",
        "                                           batch_size = batch_size,\n",
        "                                           shuffle = True,\n",
        "                                          )"
      ],
      "metadata": {
        "colab": {
          "base_uri": "https://localhost:8080/",
          "height": 101,
          "referenced_widgets": [
            "7b727d2bf676447d8eb4e576b7144d23",
            "ecb05678838f42c48ae67415e2ba8067",
            "e70cbd11c51443a3b5e60b18818b9864",
            "dfda5d6ef2c3428aa87a704214ee427f",
            "2df0686985a24a97a3ba6cda24de387d",
            "64f6fcd424934378abec713ae1b52d40",
            "61a6c8c0249b445ba7bdab1c89cfd981",
            "9b33e2d1d1394ada8ea77b225d4f73c9",
            "bd4264755c6e47e9b1d376df7586ab9c",
            "60ccb4e3ec6f41069942c625d8a8ed0d",
            "0c416378c98041e489566958e5c4bba7"
          ]
        },
        "id": "RODFO82sqH6I",
        "outputId": "d7fc5cc6-0b5d-43f8-a9fd-914988047e52"
      },
      "execution_count": 2,
      "outputs": [
        {
          "output_type": "stream",
          "name": "stdout",
          "text": [
            "Downloading https://www.cs.toronto.edu/~kriz/cifar-10-python.tar.gz to ./data/cifar-10-python.tar.gz\n"
          ]
        },
        {
          "output_type": "display_data",
          "data": {
            "text/plain": [
              "  0%|          | 0/170498071 [00:00<?, ?it/s]"
            ],
            "application/vnd.jupyter.widget-view+json": {
              "version_major": 2,
              "version_minor": 0,
              "model_id": "7b727d2bf676447d8eb4e576b7144d23"
            }
          },
          "metadata": {}
        },
        {
          "output_type": "stream",
          "name": "stdout",
          "text": [
            "Extracting ./data/cifar-10-python.tar.gz to ./data\n",
            "Files already downloaded and verified\n"
          ]
        }
      ]
    },
    {
      "cell_type": "code",
      "source": [
        "class ConvNeuralNet(nn.Module):\n",
        "    def __init__(self, num_classes):\n",
        "        super(ConvNeuralNet, self).__init__()\n",
        "        self.flat = nn.Flatten()\n",
        "        self.fc1 = nn.Linear(3072,128)\n",
        "        self.relu1 = nn.ReLU()\n",
        "        self.fc2 = nn.Linear(128, 10)\n",
        "      \n",
        "    def forward(self, x):\n",
        "                \n",
        "        out = self.flat(x)\n",
        "        out = self.fc1(out)\n",
        "        out = self.relu1(out)\n",
        "        out = self.fc2(out)\n",
        "        return out"
      ],
      "metadata": {
        "id": "LUy_HaQwqKBw"
      },
      "execution_count": 3,
      "outputs": []
    },
    {
      "cell_type": "code",
      "source": [
        "model = ConvNeuralNet(num_classes).to(device)\n",
        "\n",
        "criterion = nn.CrossEntropyLoss()\n",
        "\n",
        "optimizer = torch.optim.SGD(model.parameters(), lr=learning_rate)  \n"
      ],
      "metadata": {
        "id": "p1AiO2AXqRzA"
      },
      "execution_count": 4,
      "outputs": []
    },
    {
      "cell_type": "code",
      "source": [
        "\n",
        "for epoch in range(num_epochs):\n",
        "  correct = 0\n",
        "  total = 0\n",
        "  for i,(images, labels) in enumerate(train_loader):  \n",
        "        \n",
        "        images = images.to(device)\n",
        "        labels = labels.to(device)\n",
        "        output = model(images)\n",
        "        loss = criterion(output, labels)\n",
        "        \n",
        "        optimizer.zero_grad()\n",
        "        loss.backward()\n",
        "        optimizer.step()\n",
        "        _, predicted = torch.max(output.data,1)\n",
        "        total += labels.size(0)\n",
        "        correct += (predicted == labels).sum().item()\n",
        "\n",
        "\n",
        "  print('Epoch [{}/{}], Loss: {:.4f}, Accuracy: {}% '.format(epoch+1, num_epochs, loss.item(),100 * correct / total))\n",
        "\n",
        "         \n"
      ],
      "metadata": {
        "colab": {
          "base_uri": "https://localhost:8080/"
        },
        "id": "6PIRDdy9qa7b",
        "outputId": "f0487090-5191-49f1-c9c7-f280e43ce71e"
      },
      "execution_count": 5,
      "outputs": [
        {
          "output_type": "stream",
          "name": "stdout",
          "text": [
            "Epoch [1/50], Loss: 2.0195, Accuracy: 32.922% \n",
            "Epoch [2/50], Loss: 1.7632, Accuracy: 40.562% \n",
            "Epoch [3/50], Loss: 1.7768, Accuracy: 43.194% \n",
            "Epoch [4/50], Loss: 1.3637, Accuracy: 44.736% \n",
            "Epoch [5/50], Loss: 1.4328, Accuracy: 46.092% \n",
            "Epoch [6/50], Loss: 1.5555, Accuracy: 47.088% \n",
            "Epoch [7/50], Loss: 2.2732, Accuracy: 47.912% \n",
            "Epoch [8/50], Loss: 1.2610, Accuracy: 48.7% \n",
            "Epoch [9/50], Loss: 1.6532, Accuracy: 49.512% \n",
            "Epoch [10/50], Loss: 1.1927, Accuracy: 50.34% \n",
            "Epoch [11/50], Loss: 1.6668, Accuracy: 50.882% \n",
            "Epoch [12/50], Loss: 1.5073, Accuracy: 51.526% \n",
            "Epoch [13/50], Loss: 1.5325, Accuracy: 52.07% \n",
            "Epoch [14/50], Loss: 1.0052, Accuracy: 52.596% \n",
            "Epoch [15/50], Loss: 1.5402, Accuracy: 53.15% \n",
            "Epoch [16/50], Loss: 1.6238, Accuracy: 53.746% \n",
            "Epoch [17/50], Loss: 1.1330, Accuracy: 54.252% \n",
            "Epoch [18/50], Loss: 1.6286, Accuracy: 54.656% \n",
            "Epoch [19/50], Loss: 1.7225, Accuracy: 55.136% \n",
            "Epoch [20/50], Loss: 1.1362, Accuracy: 55.488% \n",
            "Epoch [21/50], Loss: 1.1391, Accuracy: 56.006% \n",
            "Epoch [22/50], Loss: 1.3403, Accuracy: 56.468% \n",
            "Epoch [23/50], Loss: 1.3054, Accuracy: 56.64% \n",
            "Epoch [24/50], Loss: 1.2305, Accuracy: 57.252% \n",
            "Epoch [25/50], Loss: 1.1282, Accuracy: 57.712% \n",
            "Epoch [26/50], Loss: 1.3508, Accuracy: 57.914% \n",
            "Epoch [27/50], Loss: 1.2435, Accuracy: 58.324% \n",
            "Epoch [28/50], Loss: 1.5757, Accuracy: 58.808% \n",
            "Epoch [29/50], Loss: 1.4152, Accuracy: 59.212% \n",
            "Epoch [30/50], Loss: 1.0905, Accuracy: 59.296% \n",
            "Epoch [31/50], Loss: 1.4220, Accuracy: 59.606% \n",
            "Epoch [32/50], Loss: 1.3441, Accuracy: 59.944% \n",
            "Epoch [33/50], Loss: 0.7359, Accuracy: 60.368% \n",
            "Epoch [34/50], Loss: 1.0128, Accuracy: 60.746% \n",
            "Epoch [35/50], Loss: 1.1565, Accuracy: 61.016% \n",
            "Epoch [36/50], Loss: 1.2077, Accuracy: 61.42% \n",
            "Epoch [37/50], Loss: 1.2018, Accuracy: 61.756% \n",
            "Epoch [38/50], Loss: 1.3634, Accuracy: 61.964% \n",
            "Epoch [39/50], Loss: 1.1491, Accuracy: 62.28% \n",
            "Epoch [40/50], Loss: 1.3804, Accuracy: 62.76% \n",
            "Epoch [41/50], Loss: 1.7613, Accuracy: 62.884% \n",
            "Epoch [42/50], Loss: 1.0886, Accuracy: 63.272% \n",
            "Epoch [43/50], Loss: 1.3173, Accuracy: 63.516% \n",
            "Epoch [44/50], Loss: 0.9677, Accuracy: 63.708% \n",
            "Epoch [45/50], Loss: 0.6977, Accuracy: 63.976% \n",
            "Epoch [46/50], Loss: 1.0699, Accuracy: 64.284% \n",
            "Epoch [47/50], Loss: 0.7504, Accuracy: 64.52% \n",
            "Epoch [48/50], Loss: 1.1681, Accuracy: 64.694% \n",
            "Epoch [49/50], Loss: 1.3638, Accuracy: 64.94% \n",
            "Epoch [50/50], Loss: 1.0871, Accuracy: 65.256% \n"
          ]
        }
      ]
    },
    {
      "cell_type": "code",
      "source": [
        "with torch.no_grad():\n",
        "    correct = 0\n",
        "    total = 0\n",
        "    for images, labels in train_loader:\n",
        "        images = images.to(device)\n",
        "        labels = labels.to(device)\n",
        "        outputs = model(images)\n",
        "        _, predicted = torch.max(outputs.data, 1)\n",
        "        total += labels.size(0)\n",
        "        correct += (predicted == labels).sum().item()\n",
        "    \n",
        "    print('Accuracy of the network : {} %'.format(100 * correct / total))\n",
        "    end=time.time()-start\n",
        "    print(\"Time taken : {}seconds\".format(end))\n",
        "\n"
      ],
      "metadata": {
        "colab": {
          "base_uri": "https://localhost:8080/"
        },
        "id": "DrxqVAEZqd40",
        "outputId": "5ede95bb-f803-4f10-9880-e0fc021d9773"
      },
      "execution_count": 6,
      "outputs": [
        {
          "output_type": "stream",
          "name": "stdout",
          "text": [
            "Accuracy of the network : 66.172 %\n",
            "Time taken : 719.8226659297943seconds\n"
          ]
        }
      ]
    }
  ]
}